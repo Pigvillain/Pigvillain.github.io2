{
 "cells": [
  {
   "cell_type": "markdown",
   "id": "e8945017-2465-4fd0-910d-405c6e6b10f5",
   "metadata": {},
   "source": [
    "## *파이썬 프로그래밍*  \n",
    "\n",
    "### **교과목 개요**  \n",
    "- 머신러닝은 컴퓨터가 데이터를 학습함으로써 패턴을 인식하여 목표값을 예측하고 의사결정을 내리는 인공지능 분야의 한 영역입니다.\n",
    "- 이 교과목은 학생들에게 머신러닝의 기본 개념, 알고리즘, 응용 및 적용에 대한 이해를 제공합니다.\n",
    "- 학생들은 본 강의에서 주어진 데이터셋에서 문제를 해결하고 머신러닝 모델을 구축/학습하는 데 필요한 실용적인 기술과 지식을 습득할 수 있습니다.\n",
    "\n",
    "## *주의*\n",
    "![](https://encrypted-tbn0.gstatic.com/images?q=tbn:ANd9GcT1hKceu5UjJ04PVu7M9768DxLXqKiqO3d1NJFFd2kWEhtKIpzKYs7I&usqp=CAE&s)  \n",
    "- 수업 출석률이 **총 수업시간의 3/4에 미달한 학생**은 정기시험, 재시험 또는 추가시험에 응시할 수 있으며, **성적은 F(0점) 처리**한다.\n",
    "\n",
    "### **Python 기초**  \n",
    "- 텍스트 출력하기: print(text)"
   ]
  },
  {
   "cell_type": "code",
   "execution_count": 1,
   "id": "e018e5f3-55c5-4583-9007-eee96798cef8",
   "metadata": {},
   "outputs": [
    {
     "name": "stdout",
     "output_type": "stream",
     "text": [
      "hello world\n"
     ]
    }
   ],
   "source": [
    "print(\"hello world\")"
   ]
  },
  {
   "cell_type": "code",
   "execution_count": null,
   "id": "59470543-8797-4532-85c9-d61955c705dd",
   "metadata": {},
   "outputs": [],
   "source": []
  }
 ],
 "metadata": {
  "kernelspec": {
   "display_name": "Python 3 (ipykernel)",
   "language": "python",
   "name": "python3"
  },
  "language_info": {
   "codemirror_mode": {
    "name": "ipython",
    "version": 3
   },
   "file_extension": ".py",
   "mimetype": "text/x-python",
   "name": "python",
   "nbconvert_exporter": "python",
   "pygments_lexer": "ipython3",
   "version": "3.8.19"
  }
 },
 "nbformat": 4,
 "nbformat_minor": 5
}
