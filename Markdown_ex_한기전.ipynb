{
 "cells": [
  {
   "cell_type": "markdown",
   "id": "b492e118-b9b1-4349-8b12-4e271e9fc7c7",
   "metadata": {},
   "source": [
    "## 쥬피터를 통한 마크 다운 활용"
   ]
  },
  {
   "cell_type": "markdown",
   "id": "7f141fbf-ce0c-409b-9818-b230363cb8ec",
   "metadata": {},
   "source": [
    "ㄱ. 이 페이지에서는 '마크 다운'을 활용한 방법과 'HTML'을 활용한 방법을 나눕니다.  \n",
    "\n",
    "ㄴ. 줄을 건너뛰고 싶다면 '공백 두번 입력 후 엔터' 를 사용하시면 됩니다.\n",
    "***"
   ]
  },
  {
   "cell_type": "markdown",
   "id": "d14bab4f-bc52-43e1-b1ec-e34bf7fbc177",
   "metadata": {},
   "source": [
    "## 1. Header\n",
    "\n",
    "   Markdown 에서는 '#' 을 이용해서 h1~h6을 표시합니다."
   ]
  },
  {
   "cell_type": "markdown",
   "id": "140e715e-dae0-46ec-b2d6-4e73f1e2a09f",
   "metadata": {},
   "source": [
    "# \\#가장 큰\n",
    "### \\###중간 크기\n",
    "###### \\######가장 작은"
   ]
  },
  {
   "cell_type": "markdown",
   "id": "c10c8ee1-4229-4e1d-b075-db7c5e9b238a",
   "metadata": {},
   "source": [
    "<h1>가장 큰</h1>\n",
    "<h3>중간 크기</h3>\n",
    "<h6>가장 작은</h6>"
   ]
  },
  {
   "cell_type": "markdown",
   "id": "4a743e81-1e11-410c-9cb9-5a3da35f221b",
   "metadata": {},
   "source": [
    "***"
   ]
  },
  {
   "cell_type": "markdown",
   "id": "aebd29f6-9cf5-4d9c-b5db-faaa74d2449e",
   "metadata": {},
   "source": [
    "## 2. Font style\n",
    "\n",
    "Markdown 에서는 '*' 와 '_' 을 이용해 굵기, 기울기 등을 표시합니다."
   ]
  },
  {
   "cell_type": "markdown",
   "id": "876c5f3a-ee2c-4e06-9276-005a91f0fee4",
   "metadata": {},
   "source": [
    "### ㄱ. Bold Text"
   ]
  },
  {
   "cell_type": "markdown",
   "id": "29af593a-ce61-4275-b22b-7082938d6953",
   "metadata": {},
   "source": [
    "**'*' 별 문자를 2연속으로 사용하여 열고 닫으면 적용됩니다.**  \n",
    "__'_' 하이픈 문자를 2연속으로 사용하여 열고 닫아도 적용됩니다.__"
   ]
  },
  {
   "cell_type": "markdown",
   "id": "caa4164f-1a74-4d5e-83e6-9cfc1112ee7e",
   "metadata": {},
   "source": [
    "### ㄴ. Italic Text\n",
    "\n",
    "_'*' 별 문자를 1회 사용하여 열고 닫으면 적용됩니다._  \n",
    "*'_' 별 문자를 1회 사용하여 열고 닫으면 적용됩니다.*"
   ]
  },
  {
   "cell_type": "markdown",
   "id": "4708fc37-588d-4f07-88fa-cffbe3eb6542",
   "metadata": {},
   "source": [
    "### ㄷ. Bold & Italic Text\n",
    "\n",
    "___'*' 별 문자를 3연속으로 사용하여 열고 닫으면 적용됩니다.___  \n",
    "***'_' 별 문자를 3연속으로 사용하여 열고 닫으면 적용됩니다.***  "
   ]
  },
  {
   "cell_type": "markdown",
   "id": "ac99b5ed-b66d-4b66-bb5d-47bbefb769de",
   "metadata": {},
   "source": [
    "### ㄹ. Scratch Text\n",
    "\n",
    "~~'~' 물결표 문자를 2연속으로 사용하여 열고 닫으면 적용됩니다.~~"
   ]
  },
  {
   "cell_type": "markdown",
   "id": "0149a074-0cda-4323-b0f4-1ffeed64bee9",
   "metadata": {},
   "source": [
    "### ㅁ. HTML로 위 Markdown 표시법을 사용하기\n",
    "\n",
    "<b><i> b(굵기) 와 i(기울기) 태그를 사용하면 됩니다.</i></b>  \n",
    "<strong><em> strong(굵기) 와 em(기울기) 태그를 사용해도 됩니다. </em></strong>  \n",
    "\n",
    "<del>취소선은 del 태그를 이용하면 됩니다.</del>"
   ]
  },
  {
   "cell_type": "markdown",
   "id": "1881df0d-8bc0-4d42-a66f-cef276b35edd",
   "metadata": {},
   "source": [
    "***"
   ]
  },
  {
   "cell_type": "markdown",
   "id": "9bcb508a-5a8c-42d4-9c12-b27575f5dd38",
   "metadata": {},
   "source": [
    "## 3. BACKSLASH ESCAPE\n",
    "\n",
    "태그의 앞에 \\ (백슬래시) 를 붙이면 **인식되지 않습니다.**  \n",
    "이는 HTML에서도 동일합니다.  \n",
    "  \n",
    "\\#헤드가아님  \n",
    "\\*\\*굵기가 아님**  \n",
    "***"
   ]
  },
  {
   "cell_type": "markdown",
   "id": "5c122070-83c2-4f34-b0de-9be1a7db4730",
   "metadata": {},
   "source": [
    "### 4. BLOCKQUOTES\n",
    "\n",
    "> 문자 앞에 \\> 를 입력하면 **블록처리** 됩니다.e>"
   ]
  },
  {
   "cell_type": "markdown",
   "id": "1361917b-5af6-40f8-b37a-5d38a0f9a0ba",
   "metadata": {},
   "source": [
    "<blockquote>\n",
    "<p>HTML 에서는 blockquote 태그를 이용하시면 됩니다.</p>\n",
    "<blockquote>"
   ]
  },
  {
   "cell_type": "markdown",
   "id": "948de7cb-a2f9-455f-a068-4c5201ee96f5",
   "metadata": {},
   "source": [
    ">  \\>\n",
    ">>  \\>>\n",
    ">>> \\>\\>\\> 처럼 입력하면 강조의 강조의 강조도 됩니다.  "
   ]
  },
  {
   "cell_type": "markdown",
   "id": "2e499f79-8347-404c-b632-5c8e688baaa7",
   "metadata": {},
   "source": [
    "### 5. HORIZONTAL LINE  \r\n",
    "줄에 \\*\\*\\* 만을 입력하면  \n",
    "***\n",
    "구분선을 만들 수 있습니다.  \n",
    "  \n",
    "***\n"
   ]
  },
  {
   "cell_type": "markdown",
   "id": "c47ac713-4c92-4c60-8690-7c875f0cda6b",
   "metadata": {},
   "source": [
    "### 6. ORDERED LIST\r\n",
    "  1. 보이는 대로\n",
    "  2. 번호와 . (점) 을 넣으면\n",
    "  3. 리스트를 만들 수 있습니다.\n"
   ]
  },
  {
   "cell_type": "markdown",
   "id": "6b2ccf1f-b05b-46b4-9c62-5cebfcba5b6d",
   "metadata": {},
   "source": [
    "<ol>\n",
    "    <li>HTML 에서는</li>\n",
    "    <li>ol 태그와 li 태그를 이용해</li>\n",
    "    <li>만들 수 있습니다.</li>\n",
    "</ol>"
   ]
  },
  {
   "cell_type": "markdown",
   "id": "3bf9c901-d164-461a-b1e0-194db0a3f797",
   "metadata": {},
   "source": [
    "***"
   ]
  },
  {
   "cell_type": "markdown",
   "id": "472a04cc-1f05-414f-bf7e-1d2c99d847ec",
   "metadata": {},
   "source": [
    "### 7. Rendered Output\r",
    "  \n",
    "- -(하이픈)를 가장 먼저 입력하면\n",
    "- 이런 리스트도 만들 수 있습니다.\r\n"
   ]
  },
  {
   "cell_type": "markdown",
   "id": "87041b3e-5cb6-486e-b33f-3b73e2539b67",
   "metadata": {},
   "source": [
    "<ul>\n",
    "    <li>HTML에서는</li>\n",
    "    <li>ul 태그와 li 태그를 이용하시면 됩니다.</li>\n",
    "</ul>"
   ]
  },
  {
   "cell_type": "markdown",
   "id": "625d64c3-c79f-47ba-a97f-e0b2c60c0c72",
   "metadata": {},
   "source": [
    "***"
   ]
  },
  {
   "cell_type": "markdown",
   "id": "5b2019af-418c-4494-9317-cf58d875c1c5",
   "metadata": {},
   "source": [
    "### 8. NESTED ORDERED LIST\n",
    "  \n",
    "1. 아이템\n",
    "   1. 서브1\n",
    "   2. 서브2\n",
    "   3. 서브3\n",
    "2. 아이템  \n",
    "3. 위와 같이 응용할수도 있습니다."
   ]
  },
  {
   "cell_type": "markdown",
   "id": "cc495ad8-3256-4016-a51c-e1617dbe42bc",
   "metadata": {},
   "source": [
    "### 9. Graphics  \n",
    "\n",
    ">\\!\\[](이미지주소\"마우스 오버 시 제목\")\n",
    "\n",
    "와 같이 입력하면 이미지를 마크다운에서 불러올 수 있습니다.  \n",
    "HTML에서는 <img> 태그를 이용하시면 됩니다.\n",
    "  \n",
    "![](https://post-phinf.pstatic.net/MjAyMjA3MjJfMjg3/MDAxNjU4NDUwNDIxMzA0.zibjwc_-KThy3ov3JbjJ_tSYsUV_sNnTtXhUEwRGIgsg.csRmkB8DX653S92-gO9wxWQrhDmnCzaow1dWCscHYtQg.JPEG/%EB%8F%BC%EC%A7%80_%282%29.jpg?type=w800_q75)\n",
    "  \n",
    "***"
   ]
  },
  {
   "cell_type": "markdown",
   "id": "8a7ea18f-7f14-40de-88d7-6bf060355e16",
   "metadata": {},
   "source": [
    "### 10. Hyperlink  \n",
    "\n",
    "Markdown 에서는 링크만을 적어놓더라도 정상 작동합니다.  \n",
    "https://naver.com  \n",
    "\n",
    "HTML에서는 <a href\\>를 이용하시면 됩니다.  \n",
    "\n",
    "만약 표준 링크로서 구분하고 싶으시다면  \n",
    "> \\[\\]\\(링크\"마우스 오버 시 제목\")  \n",
    "\n",
    "의 형식을 이용하시면 됩니다.  \n",
    "\n",
    "[네이버](https://naver.com \"도비는 이제 자유에요!\")"
   ]
  },
  {
   "cell_type": "markdown",
   "id": "046e0ca3-1ee3-42d9-967c-57f45f516da6",
   "metadata": {},
   "source": [
    "<a id=\"Hyperlink\"></a>"
   ]
  },
  {
   "cell_type": "markdown",
   "id": "5fa2918d-2215-41eb-9d62-371b5770b371",
   "metadata": {},
   "source": [
    "***"
   ]
  },
  {
   "cell_type": "markdown",
   "id": "455de689-dde5-41e7-bef8-3ca1a238b0f4",
   "metadata": {},
   "source": [
    "### 11.Anchor Links  \n",
    "\n",
    "- [바로 윗 문단으로 이동](#Hyperlink)\n",
    "  \n",
    "a 태그를 이용해 id를 지정해주고,  \n",
    ">\\[제목](#아이디)\n",
    "\n",
    "의 형태로 작성해주시면 됩니다.\n",
    "***"
   ]
  },
  {
   "cell_type": "markdown",
   "id": "77d90a48-f1e9-41f3-8d0a-8d13e87c6227",
   "metadata": {},
   "source": [
    "### 12. TASK LISTS\n",
    "\n",
    "- [X] 오늘 할일\n",
    "- [ ] 내일 할일\n",
    "\n",
    "표기 형식과 동일합니다. \n",
    ">\\[X] 텍스트\n",
    "\n",
    "HTML에서는 input 타입의 checklist 를 사용하시면 됩니다.\n",
    "***"
   ]
  },
  {
   "cell_type": "markdown",
   "id": "f157990e-aeb9-435e-ac33-26c8ee1daf01",
   "metadata": {},
   "source": [
    "### 13. Inline HTML\n",
    "  \n",
    "<span style=\"color:red;\"> 이 글은 html의 style을 적용했습니다. </span>\n",
    "\n",
    "Markdown 에서도 스타일이 적용 가능합니다.  \n",
    "HTML을 알면 다 아니 생략.\n",
    "***"
   ]
  },
  {
   "cell_type": "markdown",
   "id": "01bdd953-fe84-4b5c-9dbc-914676373d29",
   "metadata": {},
   "source": [
    "### 14. Code section\n",
    "\n",
    "```python\n",
    "a = 10\n",
    "print(a)\n",
    "```\n",
    "\n",
    "\\```python  \n",
    "a = 10  \n",
    "print(a)  \n",
    "\\```  \n",
    "\n",
    "위와 같은 형식을 이용하면 Markdown 내에서도 코드 실행이 가능합니다.\n",
    "***"
   ]
  },
  {
   "cell_type": "markdown",
   "id": "d7d96e0b-0cb6-4938-a40f-7116d8709bb9",
   "metadata": {},
   "source": [
    "### 15. Latex 수식\n",
    "\n",
    "  $ x = \\sum_{i=0}^{N-1} W_i $  \n",
    "\n",
    "\\$ 안에 \\$ 수식을 작성하시면 됩니다.  \n",
    "저는 정작 수식을 몰라서 작성을 못합니다."
   ]
  }
 ],
 "metadata": {
  "kernelspec": {
   "display_name": "Python 3 (ipykernel)",
   "language": "python",
   "name": "python3"
  },
  "language_info": {
   "codemirror_mode": {
    "name": "ipython",
    "version": 3
   },
   "file_extension": ".py",
   "mimetype": "text/x-python",
   "name": "python",
   "nbconvert_exporter": "python",
   "pygments_lexer": "ipython3",
   "version": "3.8.19"
  }
 },
 "nbformat": 4,
 "nbformat_minor": 5
}
